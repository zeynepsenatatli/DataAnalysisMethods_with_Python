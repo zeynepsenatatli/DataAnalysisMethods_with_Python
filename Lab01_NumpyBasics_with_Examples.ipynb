{
  "nbformat": 4,
  "nbformat_minor": 0,
  "metadata": {
    "colab": {
      "provenance": [],
      "include_colab_link": true
    },
    "kernelspec": {
      "name": "python3",
      "display_name": "Python 3"
    },
    "language_info": {
      "name": "python"
    }
  },
  "cells": [
    {
      "cell_type": "markdown",
      "metadata": {
        "id": "view-in-github",
        "colab_type": "text"
      },
      "source": [
        "<a href=\"https://colab.research.google.com/github/zeynepsenatatli/DataAnalysisMethods_with_Python/blob/main/Lab01_NumpyBasics_with_Examples.ipynb\" target=\"_parent\"><img src=\"https://colab.research.google.com/assets/colab-badge.svg\" alt=\"Open In Colab\"/></a>"
      ]
    },
    {
      "cell_type": "code",
      "execution_count": null,
      "metadata": {
        "id": "ues1qJGj4uHH"
      },
      "outputs": [],
      "source": [
        "import random\n",
        "import numpy as np\n",
        "import matplotlib.pyplot as plt\n",
        "position = 0\n",
        "walk = [position]\n",
        "nsteps = 100\n",
        "for _ in range(nsteps):\n",
        "    step = 1 if random.randint(0, 1) else -1\n",
        "    position += step\n",
        "    walk.append(position)"
      ]
    },
    {
      "cell_type": "code",
      "source": [
        "rng = np.random.default_rng(seed=12345)\n",
        "draws = rng.integers(0, 2, size=nsteps)\n",
        "draws\n"
      ],
      "metadata": {
        "colab": {
          "base_uri": "https://localhost:8080/"
        },
        "id": "bI5OanCv8_WO",
        "outputId": "c319fe22-f043-4ff8-a539-0eadfbd68675"
      },
      "execution_count": null,
      "outputs": [
        {
          "output_type": "execute_result",
          "data": {
            "text/plain": [
              "array([1, 0, 1, 0, 0, 1, 1, 1, 1, 0, 1, 0, 1, 1, 0, 0, 0, 1, 1, 1, 1, 0,\n",
              "       1, 1, 1, 1, 0, 0, 0, 0, 0, 1, 0, 1, 0, 0, 0, 1, 1, 0, 1, 0, 0, 0,\n",
              "       1, 0, 0, 0, 0, 0, 1, 1, 0, 0, 0, 0, 0, 0, 0, 1, 1, 1, 1, 1, 0, 1,\n",
              "       1, 1, 1, 1, 1, 1, 1, 1, 0, 1, 1, 0, 0, 0, 1, 0, 1, 1, 1, 0, 1, 1,\n",
              "       0, 0, 0, 0, 1, 0, 1, 0, 0, 0, 0, 1])"
            ]
          },
          "metadata": {},
          "execution_count": 20
        }
      ]
    },
    {
      "cell_type": "code",
      "source": [
        "steps = np.where(draws == 0, 1, -1)\n",
        "steps"
      ],
      "metadata": {
        "colab": {
          "base_uri": "https://localhost:8080/"
        },
        "id": "2RveBdoL9Mkx",
        "outputId": "80ebf84f-c916-4628-adeb-6c467829c09f"
      },
      "execution_count": null,
      "outputs": [
        {
          "output_type": "execute_result",
          "data": {
            "text/plain": [
              "array([-1,  1, -1,  1,  1, -1, -1, -1, -1,  1, -1,  1, -1, -1,  1,  1,  1,\n",
              "       -1, -1, -1, -1,  1, -1, -1, -1, -1,  1,  1,  1,  1,  1, -1,  1, -1,\n",
              "        1,  1,  1, -1, -1,  1, -1,  1,  1,  1, -1,  1,  1,  1,  1,  1, -1,\n",
              "       -1,  1,  1,  1,  1,  1,  1,  1, -1, -1, -1, -1, -1,  1, -1, -1, -1,\n",
              "       -1, -1, -1, -1, -1, -1,  1, -1, -1,  1,  1,  1, -1,  1, -1, -1, -1,\n",
              "        1, -1, -1,  1,  1,  1,  1, -1,  1, -1,  1,  1,  1,  1, -1])"
            ]
          },
          "metadata": {},
          "execution_count": 21
        }
      ]
    },
    {
      "cell_type": "code",
      "source": [
        "walk = steps.cumsum()\n",
        "walk\n"
      ],
      "metadata": {
        "colab": {
          "base_uri": "https://localhost:8080/"
        },
        "id": "kBIuoyuz-Xdg",
        "outputId": "cdbceefb-a1db-4cdb-dbc1-87a1720cf019"
      },
      "execution_count": null,
      "outputs": [
        {
          "output_type": "execute_result",
          "data": {
            "text/plain": [
              "array([-1,  0, -1,  0,  1,  0, -1, -2, -3, -2, -3, -2, -3, -4, -3, -2, -1,\n",
              "       -2, -3, -4, -5, -4, -5, -6, -7, -8, -7, -6, -5, -4, -3, -4, -3, -4,\n",
              "       -3, -2, -1, -2, -3, -2, -3, -2, -1,  0, -1,  0,  1,  2,  3,  4,  3,\n",
              "        2,  3,  4,  5,  6,  7,  8,  9,  8,  7,  6,  5,  4,  5,  4,  3,  2,\n",
              "        1,  0, -1, -2, -3, -4, -3, -4, -5, -4, -3, -2, -3, -2, -3, -4, -5,\n",
              "       -4, -5, -6, -5, -4, -3, -2, -3, -2, -3, -2, -1,  0,  1,  0])"
            ]
          },
          "metadata": {},
          "execution_count": 28
        }
      ]
    },
    {
      "cell_type": "code",
      "source": [
        " (np.abs(walk) >= 5)"
      ],
      "metadata": {
        "colab": {
          "base_uri": "https://localhost:8080/"
        },
        "id": "0u5lKAcAAhxm",
        "outputId": "708b94c4-3cc6-4669-b0da-c4dbf7358408"
      },
      "execution_count": null,
      "outputs": [
        {
          "output_type": "execute_result",
          "data": {
            "text/plain": [
              "array([False, False, False, False, False, False, False, False, False,\n",
              "       False, False, False, False, False, False, False, False, False,\n",
              "       False, False,  True, False,  True,  True,  True,  True,  True,\n",
              "        True,  True, False, False, False, False, False, False, False,\n",
              "       False, False, False, False, False, False, False, False, False,\n",
              "       False, False, False, False, False, False, False, False, False,\n",
              "        True,  True,  True,  True,  True,  True,  True,  True,  True,\n",
              "       False,  True, False, False, False, False, False, False, False,\n",
              "       False, False, False, False,  True, False, False, False, False,\n",
              "       False, False, False,  True, False,  True,  True,  True, False,\n",
              "       False, False, False, False, False, False, False, False, False,\n",
              "       False])"
            ]
          },
          "metadata": {},
          "execution_count": 32
        }
      ]
    },
    {
      "cell_type": "code",
      "source": [
        "nwalks = 10\n",
        "nsteps = 5\n",
        "draws = rng.integers(0, 2, size=(nwalks, nsteps))\n",
        "draws"
      ],
      "metadata": {
        "colab": {
          "base_uri": "https://localhost:8080/"
        },
        "id": "a6jdXSiFCIzO",
        "outputId": "b917a101-0605-45f2-9238-60d3f734f47d"
      },
      "execution_count": null,
      "outputs": [
        {
          "output_type": "execute_result",
          "data": {
            "text/plain": [
              "array([[1, 0, 0, 0, 1],\n",
              "       [1, 0, 1, 1, 0],\n",
              "       [0, 1, 1, 1, 0],\n",
              "       [0, 0, 1, 0, 0],\n",
              "       [1, 1, 1, 0, 1],\n",
              "       [0, 0, 1, 1, 0],\n",
              "       [1, 1, 1, 0, 0],\n",
              "       [1, 1, 0, 1, 1],\n",
              "       [0, 0, 0, 0, 1],\n",
              "       [0, 1, 1, 0, 0]])"
            ]
          },
          "metadata": {},
          "execution_count": 43
        }
      ]
    },
    {
      "cell_type": "code",
      "source": [
        "steps = np.where(draws > 0, 1, -1)\n",
        "steps\n",
        "walks = steps.cumsum(axis=0)\n",
        "walks"
      ],
      "metadata": {
        "colab": {
          "base_uri": "https://localhost:8080/"
        },
        "id": "bWgO3yFwCeE_",
        "outputId": "4391118c-6b9d-4363-fa52-78e777198760"
      },
      "execution_count": null,
      "outputs": [
        {
          "output_type": "execute_result",
          "data": {
            "text/plain": [
              "array([[ 1, -1, -1, -1,  1],\n",
              "       [ 2, -2,  0,  0,  0],\n",
              "       [ 1, -1,  1,  1, -1],\n",
              "       [ 0, -2,  2,  0, -2],\n",
              "       [ 1, -1,  3, -1, -1],\n",
              "       [ 0, -2,  4,  0, -2],\n",
              "       [ 1, -1,  5, -1, -3],\n",
              "       [ 2,  0,  4,  0, -2],\n",
              "       [ 1, -1,  3, -1, -1],\n",
              "       [ 0,  0,  4, -2, -2]])"
            ]
          },
          "metadata": {},
          "execution_count": 44
        }
      ]
    },
    {
      "cell_type": "code",
      "source": [
        "hits30 = (np.abs(walks) >= 2).any(axis=1)\n",
        "hits30\n"
      ],
      "metadata": {
        "colab": {
          "base_uri": "https://localhost:8080/"
        },
        "id": "QmwWDyGBC02W",
        "outputId": "4278ab14-98c9-4f0b-b1f7-488fb3854cc1"
      },
      "execution_count": null,
      "outputs": [
        {
          "output_type": "execute_result",
          "data": {
            "text/plain": [
              "array([False,  True, False,  True,  True,  True,  True,  True,  True,\n",
              "        True])"
            ]
          },
          "metadata": {},
          "execution_count": 55
        }
      ]
    },
    {
      "cell_type": "code",
      "source": [
        "hits30.sum() \n",
        "walks[hits30]"
      ],
      "metadata": {
        "colab": {
          "base_uri": "https://localhost:8080/"
        },
        "id": "cKdVdsJWEWsh",
        "outputId": "e928c14e-4741-468f-9c02-42dbe8f8d6a0"
      },
      "execution_count": null,
      "outputs": [
        {
          "output_type": "execute_result",
          "data": {
            "text/plain": [
              "array([[ 2, -2,  0,  0,  0],\n",
              "       [ 0, -2,  2,  0, -2],\n",
              "       [ 1, -1,  3, -1, -1],\n",
              "       [ 0, -2,  4,  0, -2],\n",
              "       [ 1, -1,  5, -1, -3],\n",
              "       [ 2,  0,  4,  0, -2],\n",
              "       [ 1, -1,  3, -1, -1],\n",
              "       [ 0,  0,  4, -2, -2]])"
            ]
          },
          "metadata": {},
          "execution_count": 56
        }
      ]
    },
    {
      "cell_type": "code",
      "source": [
        "crossing_times = (np.abs(walks[hits30]) >= 3).argmax(axis=1)\n",
        "crossing_times"
      ],
      "metadata": {
        "colab": {
          "base_uri": "https://localhost:8080/"
        },
        "id": "xJXuomdREksi",
        "outputId": "3a78e8b2-8bd0-4bb9-a556-7803ec3c8d46"
      },
      "execution_count": null,
      "outputs": [
        {
          "output_type": "execute_result",
          "data": {
            "text/plain": [
              "array([0, 0, 2, 2, 2, 2, 2, 2])"
            ]
          },
          "metadata": {},
          "execution_count": 65
        }
      ]
    },
    {
      "cell_type": "code",
      "source": [
        "crossing_times.mean()"
      ],
      "metadata": {
        "colab": {
          "base_uri": "https://localhost:8080/"
        },
        "id": "d4YOF7hsGiQ8",
        "outputId": "ba4e5dcd-3881-4b4f-c23b-aa173bd8843d"
      },
      "execution_count": null,
      "outputs": [
        {
          "output_type": "execute_result",
          "data": {
            "text/plain": [
              "1.5"
            ]
          },
          "metadata": {},
          "execution_count": 58
        }
      ]
    },
    {
      "cell_type": "code",
      "source": [
        "draws = 0.25 * rng.standard_normal((nwalks, nsteps))\n",
        "draws"
      ],
      "metadata": {
        "colab": {
          "base_uri": "https://localhost:8080/"
        },
        "id": "9xezPQE_GtMF",
        "outputId": "1f744c7e-b319-4733-8b84-15c6c977566e"
      },
      "execution_count": null,
      "outputs": [
        {
          "output_type": "execute_result",
          "data": {
            "text/plain": [
              "array([[ 0.57298795,  0.35356962, -0.2084261 ,  0.03138885, -0.50875259],\n",
              "       [-0.16072118, -0.12145658,  0.03173778, -0.03746281, -0.27787409],\n",
              "       [ 0.01224036, -0.1163798 ,  0.18411915, -0.4267399 ,  0.06621322],\n",
              "       [ 0.14715037, -0.51457643,  0.0880614 ,  0.53687074,  0.25022423],\n",
              "       [-0.01203893,  0.28028337, -0.0191079 ,  0.23528469, -0.23402464],\n",
              "       [-0.24052767,  0.21749096, -0.26253691,  0.07018473, -0.0259926 ],\n",
              "       [-0.15017358,  0.08793211, -0.463816  , -0.02734976,  0.00922035],\n",
              "       [-0.29654487, -0.10647743,  0.28156762, -0.10749598, -0.10230926],\n",
              "       [-0.32388311, -0.24018156,  0.36400578, -0.47238479,  0.54068149],\n",
              "       [ 0.3278302 , -0.13098266, -0.09888749, -0.25514634, -0.02780638]])"
            ]
          },
          "metadata": {},
          "execution_count": 60
        }
      ]
    },
    {
      "cell_type": "code",
      "source": [],
      "metadata": {
        "colab": {
          "base_uri": "https://localhost:8080/",
          "height": 352
        },
        "id": "7EwqudOoG6h-",
        "outputId": "58966f64-0908-4196-c017-7180ccf06666"
      },
      "execution_count": null,
      "outputs": [
        {
          "output_type": "execute_result",
          "data": {
            "text/plain": [
              "[<matplotlib.lines.Line2D at 0x7f711b44d3d0>,\n",
              " <matplotlib.lines.Line2D at 0x7f711b44d610>,\n",
              " <matplotlib.lines.Line2D at 0x7f711b44d7d0>,\n",
              " <matplotlib.lines.Line2D at 0x7f711b44d990>,\n",
              " <matplotlib.lines.Line2D at 0x7f711b44db50>]"
            ]
          },
          "metadata": {},
          "execution_count": 62
        },
        {
          "output_type": "display_data",
          "data": {
            "text/plain": [
              "<Figure size 432x288 with 1 Axes>"
            ],
            "image/png": "[encoded data removed]"
          },
          "metadata": {
            "needs_background": "light"
          }
        }
      ]
    },
    {
      "cell_type": "code",
      "source": [
        "plt.plot(walk[:100])"
      ],
      "metadata": {
        "colab": {
          "base_uri": "https://localhost:8080/",
          "height": 282
        },
        "id": "LXSEEgb-53Gm",
        "outputId": "0dca0596-7c8c-4ad6-8890-2da8bd2dae5f"
      },
      "execution_count": null,
      "outputs": [
        {
          "output_type": "execute_result",
          "data": {
            "text/plain": [
              "[<matplotlib.lines.Line2D at 0x7f7123bbc650>]"
            ]
          },
          "metadata": {},
          "execution_count": 8
        },
        {
          "output_type": "display_data",
          "data": {
            "text/plain": [
              "<Figure size 432x288 with 1 Axes>"
            ],
            "image/png": "[encoded data removed]"
          },
          "metadata": {
            "needs_background": "light"
          }
        }
      ]
    }
  ]
}